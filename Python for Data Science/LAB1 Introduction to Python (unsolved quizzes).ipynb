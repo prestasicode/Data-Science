{
 "cells": [
  {
   "cell_type": "markdown",
   "metadata": {},
   "source": [
    "# WELCOME TO LAB 1 - AH2170 Transport Data collection and Analysis"
   ]
  },
  {
   "cell_type": "markdown",
   "metadata": {},
   "source": [
    "# Content"
   ]
  },
  {
   "cell_type": "markdown",
   "metadata": {},
   "source": [
    "1. Why Python?\n",
    "2. Install Python\n",
    "3. Basic operations\n",
    "4. Lists, tuples and dictionnaries\n",
    "5. Quick quiz\n",
    "6. Control loops\n",
    "7. Functions and modules\n",
    "8. Quick quiz\n",
    "9. Data manipulation \n",
    "10. Statistical Analysis \n",
    "11. Visualization\n",
    "12. References"
   ]
  },
  {
   "cell_type": "markdown",
   "metadata": {},
   "source": [
    "# PART 1"
   ]
  },
  {
   "cell_type": "markdown",
   "metadata": {},
   "source": [
    "## Why Python?"
   ]
  },
  {
   "cell_type": "markdown",
   "metadata": {},
   "source": [
    "Python is a programming language (like C, C++, java...), developed in 1989. Its main characteristics are as follows: \n",
    "- Open-source: its use is free and the source files are available and editable\n",
    "- With a very rich/extensive libraries\n",
    "- High portability: independent of the operating system (linux, windows, MacOS)\n",
    "- Object-oriented \n",
    "- Dynamic typing: typing (association with a variable of its type and zone allocation memory accordingly) is done automatically during the execution of the program, this which allows great flexibility and speed of programming\n",
    "- Introduces support for integrating other languages"
   ]
  },
  {
   "cell_type": "markdown",
   "metadata": {},
   "source": [
    "## Install Python"
   ]
  },
  {
   "cell_type": "markdown",
   "metadata": {},
   "source": [
    "The Jupyther notebook environment allows to write computer programs in Python language in a very readable and accessible way. It is available with the Anaconda distribution, which has many advantages, including that of being easy to install. You can download it at the following address:\n",
    "\n",
    "https: //store.continuum.io/cshop/anaconda/\n",
    "\n",
    "Once the Anaconda distribution has been downloaded and installed, you can start launching Jupyther by typing Jupyther notebook  into a terminal."
   ]
  },
  {
   "cell_type": "markdown",
   "metadata": {},
   "source": [
    "#### Other Python IDEs"
   ]
  },
  {
   "cell_type": "markdown",
   "metadata": {},
   "source": [
    "You can use other Python IDEs to code, as mentionned in the following lists:\n",
    "* Spyder\n",
    "* PyCharm\n",
    "* Atom\n",
    "* Visual Studio Code"
   ]
  },
  {
   "cell_type": "markdown",
   "metadata": {},
   "source": [
    "## Basic types and operations"
   ]
  },
  {
   "cell_type": "markdown",
   "metadata": {},
   "source": [
    "#### Affectation"
   ]
  },
  {
   "cell_type": "code",
   "execution_count": 9,
   "metadata": {},
   "outputs": [],
   "source": [
    "i = 3 \n",
    "a, b=True, 3.14159\n",
    "k=r=-2.15\n",
    "x=complex(3,4)\n",
    "s='Welcome'"
   ]
  },
  {
   "cell_type": "code",
   "execution_count": null,
   "metadata": {},
   "outputs": [],
   "source": [
    "type(i)"
   ]
  },
  {
   "cell_type": "code",
   "execution_count": null,
   "metadata": {},
   "outputs": [],
   "source": [
    "type(a)"
   ]
  },
  {
   "cell_type": "code",
   "execution_count": null,
   "metadata": {},
   "outputs": [],
   "source": [
    "type(k)"
   ]
  },
  {
   "cell_type": "code",
   "execution_count": null,
   "metadata": {},
   "outputs": [],
   "source": [
    "type(x)"
   ]
  },
  {
   "cell_type": "code",
   "execution_count": null,
   "metadata": {},
   "outputs": [],
   "source": [
    "type(s)"
   ]
  },
  {
   "cell_type": "markdown",
   "metadata": {},
   "source": [
    "#### Display"
   ]
  },
  {
   "cell_type": "code",
   "execution_count": 4,
   "metadata": {},
   "outputs": [
    {
     "ename": "NameError",
     "evalue": "name 's' is not defined",
     "output_type": "error",
     "traceback": [
      "\u001b[1;31m---------------------------------------------------------------------------\u001b[0m",
      "\u001b[1;31mNameError\u001b[0m                                 Traceback (most recent call last)",
      "Cell \u001b[1;32mIn[4], line 1\u001b[0m\n\u001b[1;32m----> 1\u001b[0m \u001b[38;5;28mprint\u001b[39m(s)\n\u001b[0;32m      2\u001b[0m i\n",
      "\u001b[1;31mNameError\u001b[0m: name 's' is not defined"
     ]
    }
   ],
   "source": [
    "print(s)"
   ]
  },
  {
   "cell_type": "markdown",
   "metadata": {},
   "source": [
    "#### Addition, subtraction, multiplication, division operators"
   ]
  },
  {
   "cell_type": "code",
   "execution_count": null,
   "metadata": {},
   "outputs": [],
   "source": [
    "i+k"
   ]
  },
  {
   "cell_type": "code",
   "execution_count": null,
   "metadata": {},
   "outputs": [],
   "source": [
    "i-k"
   ]
  },
  {
   "cell_type": "code",
   "execution_count": null,
   "metadata": {},
   "outputs": [],
   "source": [
    "i*k"
   ]
  },
  {
   "cell_type": "code",
   "execution_count": null,
   "metadata": {},
   "outputs": [],
   "source": [
    "i/k"
   ]
  },
  {
   "cell_type": "markdown",
   "metadata": {},
   "source": [
    "#### Power operators, absolute value "
   ]
  },
  {
   "cell_type": "code",
   "execution_count": null,
   "metadata": {},
   "outputs": [],
   "source": [
    "i**3"
   ]
  },
  {
   "cell_type": "code",
   "execution_count": null,
   "metadata": {},
   "outputs": [],
   "source": [
    "abs(r)"
   ]
  },
  {
   "cell_type": "markdown",
   "metadata": {},
   "source": [
    "#### Comparison operators"
   ]
  },
  {
   "cell_type": "code",
   "execution_count": null,
   "metadata": {},
   "outputs": [],
   "source": [
    "i == k "
   ]
  },
  {
   "cell_type": "code",
   "execution_count": null,
   "metadata": {},
   "outputs": [],
   "source": [
    "r is k"
   ]
  },
  {
   "cell_type": "code",
   "execution_count": null,
   "metadata": {},
   "outputs": [],
   "source": [
    "a != True ## is not "
   ]
  },
  {
   "cell_type": "code",
   "execution_count": null,
   "metadata": {},
   "outputs": [],
   "source": [
    "r>=k"
   ]
  },
  {
   "cell_type": "code",
   "execution_count": null,
   "metadata": {},
   "outputs": [],
   "source": [
    "i<2"
   ]
  },
  {
   "cell_type": "markdown",
   "metadata": {},
   "source": [
    "#### Logical operators"
   ]
  },
  {
   "cell_type": "code",
   "execution_count": 1,
   "metadata": {},
   "outputs": [
    {
     "ename": "NameError",
     "evalue": "name 'r' is not defined",
     "output_type": "error",
     "traceback": [
      "\u001b[1;31m---------------------------------------------------------------------------\u001b[0m",
      "\u001b[1;31mNameError\u001b[0m                                 Traceback (most recent call last)",
      "Cell \u001b[1;32mIn[1], line 1\u001b[0m\n\u001b[1;32m----> 1\u001b[0m (r\u001b[38;5;241m>\u001b[39m\u001b[38;5;241m=\u001b[39mk) \u001b[38;5;129;01mor\u001b[39;00m (i\u001b[38;5;241m<\u001b[39m\u001b[38;5;241m7\u001b[39m)\n",
      "\u001b[1;31mNameError\u001b[0m: name 'r' is not defined"
     ]
    }
   ],
   "source": [
    "(r>=k) or (i<7)"
   ]
  },
  {
   "cell_type": "code",
   "execution_count": null,
   "metadata": {},
   "outputs": [],
   "source": [
    "(r>=k) and (i<2)"
   ]
  },
  {
   "cell_type": "code",
   "execution_count": null,
   "metadata": {},
   "outputs": [],
   "source": [
    "not ((r>=k) and (i<2))"
   ]
  },
  {
   "cell_type": "markdown",
   "metadata": {},
   "source": [
    "#### Conversion"
   ]
  },
  {
   "cell_type": "code",
   "execution_count": null,
   "metadata": {},
   "outputs": [],
   "source": [
    "int(3.1415) #convert to integer"
   ]
  },
  {
   "cell_type": "code",
   "execution_count": null,
   "metadata": {},
   "outputs": [],
   "source": [
    "float(3) #convert to real"
   ]
  },
  {
   "cell_type": "code",
   "execution_count": null,
   "metadata": {},
   "outputs": [],
   "source": [
    "str(i) #convert to a string"
   ]
  },
  {
   "cell_type": "markdown",
   "metadata": {},
   "source": [
    "## Lists, tuples and dictionnaries"
   ]
  },
  {
   "cell_type": "markdown",
   "metadata": {},
   "source": [
    "#### Lists"
   ]
  },
  {
   "cell_type": "markdown",
   "metadata": {},
   "source": [
    "In Python, lists are objects that can contain others. So they are sequences, like strings, but instead of containing characters, they can contain any object."
   ]
  },
  {
   "cell_type": "code",
   "execution_count": null,
   "metadata": {},
   "outputs": [],
   "source": [
    "[] #initialise an empty list"
   ]
  },
  {
   "cell_type": "code",
   "execution_count": null,
   "metadata": {},
   "outputs": [],
   "source": [
    "list() #initialise an empty list"
   ]
  },
  {
   "cell_type": "code",
   "execution_count": null,
   "metadata": {},
   "outputs": [],
   "source": [
    "['car','bike','walk'] #create a list"
   ]
  },
  {
   "cell_type": "code",
   "execution_count": null,
   "metadata": {},
   "outputs": [],
   "source": [
    "[1,4,'car',4,'bike',['walk',6]] #may contain different objects"
   ]
  },
  {
   "cell_type": "code",
   "execution_count": null,
   "metadata": {},
   "outputs": [],
   "source": [
    "l=[1,2,3,4,5]"
   ]
  },
  {
   "cell_type": "code",
   "execution_count": null,
   "metadata": {},
   "outputs": [],
   "source": [
    "l[2:]=[2,2,2] #change some values\n",
    "l"
   ]
  },
  {
   "cell_type": "code",
   "execution_count": null,
   "metadata": {},
   "outputs": [],
   "source": [
    "[0]*7 "
   ]
  },
  {
   "cell_type": "code",
   "execution_count": null,
   "metadata": {},
   "outputs": [],
   "source": [
    "L1, L2 = [1,2,3], [4,5]"
   ]
  },
  {
   "cell_type": "code",
   "execution_count": null,
   "metadata": {},
   "outputs": [],
   "source": [
    "L1+L2 #concatenate lists"
   ]
  },
  {
   "cell_type": "code",
   "execution_count": null,
   "metadata": {},
   "outputs": [],
   "source": [
    "len(L1) #length of a list"
   ]
  },
  {
   "cell_type": "code",
   "execution_count": null,
   "metadata": {},
   "outputs": [],
   "source": [
    "L1.append(0) #add another element to the list\n",
    "L1"
   ]
  },
  {
   "cell_type": "code",
   "execution_count": null,
   "metadata": {},
   "outputs": [],
   "source": [
    "L1.sort() #sort the list\n",
    "L1"
   ]
  },
  {
   "cell_type": "code",
   "execution_count": null,
   "metadata": {},
   "outputs": [],
   "source": [
    "L1.reverse() #inverse the order\n",
    "L1"
   ]
  },
  {
   "cell_type": "code",
   "execution_count": null,
   "metadata": {},
   "outputs": [],
   "source": [
    "L1.index(1) #return the value of the index in the list"
   ]
  },
  {
   "cell_type": "code",
   "execution_count": null,
   "metadata": {},
   "outputs": [],
   "source": [
    "L1.remove(0) #remove the element from the list\n",
    "L1"
   ]
  },
  {
   "cell_type": "code",
   "execution_count": null,
   "metadata": {},
   "outputs": [],
   "source": [
    "L1.pop() #remove the last element of the list\n",
    "L1"
   ]
  },
  {
   "cell_type": "markdown",
   "metadata": {},
   "source": [
    "#### Tuples"
   ]
  },
  {
   "cell_type": "markdown",
   "metadata": {},
   "source": [
    "Tuples are sequences, quite similar to lists, except that you cannot modify a tuple after it has been created. This means that you define the content of a tuple (the objects it should contain) when you create it, but you cannot add or remove it later."
   ]
  },
  {
   "cell_type": "code",
   "execution_count": 24,
   "metadata": {},
   "outputs": [],
   "source": [
    "empty_tuple = () \n",
    "non_empty_tuple = (1,) \n",
    "non_empty_tuple = 1,\n",
    "tuple_with_different_values = (1, 2, 5)"
   ]
  },
  {
   "cell_type": "code",
   "execution_count": 25,
   "metadata": {},
   "outputs": [],
   "source": [
    "(a, b) = (3, 4)"
   ]
  },
  {
   "cell_type": "markdown",
   "metadata": {},
   "source": [
    "#### Dictionnaries"
   ]
  },
  {
   "cell_type": "markdown",
   "metadata": {},
   "source": [
    "A dictionary is an extremely powerful and convenient type of data. It is similar to the lists on certain points but, on many others, it is totally different from them. Python uses this type to represent various functionalities: one can for example find the attributes of an object thanks to a particular dictionary."
   ]
  },
  {
   "cell_type": "markdown",
   "metadata": {},
   "source": [
    "We have already seen that lists are container of objects. To access these latters, you must know their position in the list. This position results in integers, called indexes, between 0 (included) and the size of the list (not included). All this you must already know.\n",
    "\n",
    "The dictionary is also an object container. It has no ordered structure, unlike lists. Moreover, to access the objects contained in the dictionary, one does not necessarily use indexes but keys which can be of many different types."
   ]
  },
  {
   "cell_type": "markdown",
   "metadata": {},
   "source": [
    "A dictionary is a container object associating keys with values.\n",
    "You can add, replace or delete an element in a dictionary."
   ]
  },
  {
   "cell_type": "code",
   "execution_count": null,
   "metadata": {},
   "outputs": [],
   "source": [
    "my_dict = dict() #initialize an empty dictionnary\n",
    "type(my_dict)"
   ]
  },
  {
   "cell_type": "code",
   "execution_count": null,
   "metadata": {},
   "outputs": [],
   "source": [
    "my_dict = {} #initialize an empty dictionnary\n",
    "my_dict[\"user\"] = \"Emilie\" #user is the key and Emilie is the value\n",
    "my_dict[\"mode\"] = \"bike\"   \n",
    "my_dict"
   ]
  },
  {
   "cell_type": "code",
   "execution_count": null,
   "metadata": {},
   "outputs": [],
   "source": [
    "my_dict[\"user\"] = \"Ted\" #change the value of the key\n",
    "my_dict"
   ]
  },
  {
   "cell_type": "code",
   "execution_count": null,
   "metadata": {},
   "outputs": [],
   "source": [
    "my_dict[\"mode\"]"
   ]
  },
  {
   "cell_type": "code",
   "execution_count": null,
   "metadata": {},
   "outputs": [],
   "source": [
    "my_dict[\"location\"]='Stockholm'"
   ]
  },
  {
   "cell_type": "code",
   "execution_count": null,
   "metadata": {},
   "outputs": [],
   "source": [
    "flow= {\"road1\":3, \"road2\":6, \"road3\":7} #remove a key from a dictionnary\n",
    "del flow[\"road1\"]\n",
    "flow"
   ]
  },
  {
   "cell_type": "code",
   "execution_count": null,
   "metadata": {},
   "outputs": [],
   "source": [
    "flow= {\"road1\":3, \"road2\":6, \"road3\":7} #other way of removing a key from a dictionnary\n",
    "flow.pop(\"road1\")\n",
    "flow"
   ]
  },
  {
   "cell_type": "code",
   "execution_count": null,
   "metadata": {},
   "outputs": [],
   "source": [
    "trips={'Stockholm': 21, 'Helsinki': 3, 'Copenhagen':31}"
   ]
  },
  {
   "cell_type": "code",
   "execution_count": 64,
   "metadata": {},
   "outputs": [],
   "source": [
    "trips.keys()"
   ]
  },
  {
   "cell_type": "code",
   "execution_count": null,
   "metadata": {},
   "outputs": [],
   "source": [
    "trips.values()"
   ]
  },
  {
   "cell_type": "code",
   "execution_count": null,
   "metadata": {},
   "outputs": [],
   "source": [
    "trips.items()"
   ]
  },
  {
   "cell_type": "code",
   "execution_count": 69,
   "metadata": {},
   "outputs": [],
   "source": [
    "people = {1: {'name': 'Sam', 'age': '27', 'gender': 'Male'},\n",
    "          2: {'name': 'Marie', 'age': '22', 'gender': 'Female'},\n",
    "          3: {'name': 'Luna', 'age': '24', 'gender': 'Female', 'car_ownership': 'Yes'},\n",
    "          4: {'name': 'Peter', 'age': '29', 'gender': 'Male', 'car_ownership': 'No'}}"
   ]
  },
  {
   "cell_type": "code",
   "execution_count": null,
   "metadata": {},
   "outputs": [],
   "source": [
    "people[3]['car_ownership'] "
   ]
  },
  {
   "cell_type": "markdown",
   "metadata": {},
   "source": [
    "## Quick Quiz "
   ]
  },
  {
   "cell_type": "markdown",
   "metadata": {},
   "source": [
    "In the following dictionnary, change the value of Uppsala to 9 and add a second traveler with Jackie as a name and 29 as age."
   ]
  },
  {
   "cell_type": "code",
   "execution_count": 3,
   "metadata": {},
   "outputs": [],
   "source": [
    "sampleDict = { \n",
    "   \"travelers\":{ \n",
    "      1:{ \n",
    "         \"name\":\"Mike\",\n",
    "         \"age\":28,\n",
    "         \"trips_to\":{ \n",
    "            \"Uppsala\":7,\n",
    "            \"Gothenburg\":4\n",
    "         }\n",
    "      }\n",
    "   }\n",
    "}"
   ]
  },
  {
   "cell_type": "markdown",
   "metadata": {},
   "source": [
    "Solution"
   ]
  },
  {
   "cell_type": "code",
   "execution_count": 12,
   "metadata": {},
   "outputs": [
    {
     "name": "stdout",
     "output_type": "stream",
     "text": [
      "{'travelers': {1: {'name': 'Mike', 'age': 28, 'trips_to': {'Uppsala': 7, 'Gothenburg': 4}}}, 'name': 'Jackie', 'age': '29', 'trips_to': {'Uppsala': 9, 'Goethenburg': 4}}\n"
     ]
    }
   ],
   "source": [
    "sampleDict = { \n",
    "   \"travelers\":{ \n",
    "      1:{ \n",
    "         \"name\":\"Mike\",\n",
    "         \"age\":28,\n",
    "         \"trips_to\":{ \n",
    "            \"Uppsala\":7,\n",
    "            \"Gothenburg\":4\n",
    "         }\n",
    "      }\n",
    "   }\n",
    "}\n",
    "sampleDict.update ({\"name\": \"Jackie\", \"age\": \"29\",\"trips_to\": {\"Uppsala\":9,\"Goethenburg\":4}})\n",
    "print(sampleDict)"
   ]
  },
  {
   "cell_type": "markdown",
   "metadata": {},
   "source": [
    "## Control loops"
   ]
  },
  {
   "cell_type": "markdown",
   "metadata": {},
   "source": [
    "#### If statement"
   ]
  },
  {
   "cell_type": "code",
   "execution_count": null,
   "metadata": {},
   "outputs": [],
   "source": [
    "L = ['public transport', 'car']\n",
    "if 'bike' in L:\n",
    "    print ('bike')\n",
    "else:\n",
    "    L.append('bike')\n",
    "    print(L)"
   ]
  },
  {
   "cell_type": "code",
   "execution_count": null,
   "metadata": {},
   "outputs": [],
   "source": [
    "is_cold=False\n",
    "is_hot = False\n",
    "if is_hot:\n",
    "    print(\"It is a hot day\")\n",
    "    print(\"Go to swim\")\n",
    "elif is_cold:\n",
    "    print(\"It is a cold day\")\n",
    "    print(\"Stay at home\")\n",
    "else:\n",
    "    print(\"It is a lovely day \")\n",
    "    print(\"Go for hiking\")"
   ]
  },
  {
   "cell_type": "markdown",
   "metadata": {},
   "source": [
    "#### For loop"
   ]
  },
  {
   "cell_type": "code",
   "execution_count": null,
   "metadata": {},
   "outputs": [],
   "source": [
    "sum = 0\n",
    "for i in [1, 2, 3, 4] :\n",
    "    sum += 1\n",
    "    prod = 1\n",
    "for p in range(1, 10) :\n",
    "    prod *= p\n",
    "s = 'Welcome'\n",
    "for c in s :\n",
    "    print (c)"
   ]
  },
  {
   "cell_type": "code",
   "execution_count": null,
   "metadata": {},
   "outputs": [],
   "source": [
    "for x in range(2):\n",
    "    for y in range (2):\n",
    "        print(f\"({x},{y})\")"
   ]
  },
  {
   "cell_type": "code",
   "execution_count": null,
   "metadata": {},
   "outputs": [],
   "source": [
    "L = [ x + 10 for x in range(10) ]\n",
    "L"
   ]
  },
  {
   "cell_type": "code",
   "execution_count": null,
   "metadata": {},
   "outputs": [],
   "source": [
    "trips={'Stockholm': 21, 'Helsinki': 3, 'Copenhagen':31}\n",
    "for key,val in trips.items():\n",
    "    print(\"The number of recorded trips to {} is {}.\".format(key, val))"
   ]
  },
  {
   "cell_type": "markdown",
   "metadata": {},
   "source": [
    "#### While loop"
   ]
  },
  {
   "cell_type": "code",
   "execution_count": null,
   "metadata": {},
   "outputs": [],
   "source": [
    "i=1\n",
    "while i<=5:\n",
    "    print(i)\n",
    "    i+=1\n",
    "print(\"Done\")"
   ]
  },
  {
   "cell_type": "markdown",
   "metadata": {},
   "source": [
    "## Functions"
   ]
  },
  {
   "cell_type": "code",
   "execution_count": 124,
   "metadata": {},
   "outputs": [],
   "source": [
    "def course():\n",
    "    n='AH2170'\n",
    "    i=0\n",
    "    while i < len(n):\n",
    "        print (n[i])\n",
    "        i+=1"
   ]
  },
  {
   "cell_type": "code",
   "execution_count": null,
   "metadata": {},
   "outputs": [],
   "source": [
    "course()"
   ]
  },
  {
   "cell_type": "code",
   "execution_count": 129,
   "metadata": {},
   "outputs": [],
   "source": [
    "def course(code):\n",
    "    i=0\n",
    "    while i < len(code):\n",
    "        print (code[i], i*'*')\n",
    "        i+=1"
   ]
  },
  {
   "cell_type": "code",
   "execution_count": null,
   "metadata": {},
   "outputs": [],
   "source": [
    "course('AH2170')"
   ]
  },
  {
   "cell_type": "code",
   "execution_count": 141,
   "metadata": {},
   "outputs": [],
   "source": [
    "def op(x,i):\n",
    "    return x**i"
   ]
  },
  {
   "cell_type": "code",
   "execution_count": null,
   "metadata": {},
   "outputs": [],
   "source": [
    "op(2,5)"
   ]
  },
  {
   "cell_type": "code",
   "execution_count": null,
   "metadata": {},
   "outputs": [],
   "source": [
    "def double_op(x,i):\n",
    "    return x**i,x*i"
   ]
  },
  {
   "cell_type": "code",
   "execution_count": null,
   "metadata": {},
   "outputs": [],
   "source": [
    "double_op(4,6)"
   ]
  },
  {
   "cell_type": "code",
   "execution_count": null,
   "metadata": {},
   "outputs": [],
   "source": [
    "f = lambda x, i : x**i\n",
    "f(2,5)"
   ]
  },
  {
   "cell_type": "code",
   "execution_count": null,
   "metadata": {},
   "outputs": [],
   "source": [
    "def print_fib(n) :\n",
    "    result, a, b = [0], 0, 1\n",
    "    while b < n:\n",
    "        result.append(b),\n",
    "        a, b = b, a + b\n",
    "    return result"
   ]
  },
  {
   "cell_type": "code",
   "execution_count": 26,
   "metadata": {},
   "outputs": [
    {
     "ename": "NameError",
     "evalue": "name 'print_fib' is not defined",
     "output_type": "error",
     "traceback": [
      "\u001b[1;31m---------------------------------------------------------------------------\u001b[0m",
      "\u001b[1;31mNameError\u001b[0m                                 Traceback (most recent call last)",
      "Cell \u001b[1;32mIn[26], line 1\u001b[0m\n\u001b[1;32m----> 1\u001b[0m print_fib(\u001b[38;5;241m10\u001b[39m)\n",
      "\u001b[1;31mNameError\u001b[0m: name 'print_fib' is not defined"
     ]
    }
   ],
   "source": [
    "print_fib(10)"
   ]
  },
  {
   "cell_type": "markdown",
   "metadata": {},
   "source": [
    "## Quick Quiz "
   ]
  },
  {
   "cell_type": "markdown",
   "metadata": {},
   "source": [
    "Write a function called fib_list which takes a positive integer n and display the list of the n fibonacci numbers using the for loop.\n",
    "\n",
    "$$F_0 = 0$$ \n",
    "$$F_1 = 1$$\n",
    "$$F_n = F_{n-1} + F_{n-2},   n>1 $$ \n",
    "\n",
    "Thus, the sequence is: 0, 1, 1, 2, 3, 5, 8, ..."
   ]
  },
  {
   "cell_type": "markdown",
   "metadata": {},
   "source": [
    "#### Solution"
   ]
  },
  {
   "cell_type": "code",
   "execution_count": 64,
   "metadata": {},
   "outputs": [
    {
     "name": "stdout",
     "output_type": "stream",
     "text": [
      "0\n",
      "1\n",
      "1\n",
      "2\n",
      "3\n",
      "5\n",
      "8\n",
      "13\n",
      "21\n",
      "34\n"
     ]
    }
   ],
   "source": [
    "def fibonacci (n):\n",
    "    a,b = 0,1\n",
    "    for i in range (n):\n",
    "        a,b=b,a+b\n",
    "    return a\n",
    "\n",
    "for i in range (10):\n",
    "    print(fibonacci(i))\n",
    "    \n",
    "    \n",
    "    \n",
    "    \n",
    "    \n",
    "        \n",
    "   \n",
    "  \n",
    "\n",
    "    "
   ]
  },
  {
   "cell_type": "markdown",
   "metadata": {},
   "source": [
    "\n",
    "# PART 2"
   ]
  },
  {
   "cell_type": "markdown",
   "metadata": {},
   "source": [
    "### Package installation for data manipulation and vizualization:\n",
    "\n",
    "Go to home page> click on new > Terminal > \n",
    "\n",
    "\n",
    "conda install numpy \n",
    "\n",
    "conda install pandas\n",
    "\n",
    "conda install matplotlib\n",
    "\n",
    "conda install seaborn\n",
    "\n",
    "\n",
    "*Alternative: Using 'pip' instead of 'conda'"
   ]
  },
  {
   "cell_type": "markdown",
   "metadata": {},
   "source": [
    "## Data manipulation"
   ]
  },
  {
   "cell_type": "code",
   "execution_count": 39,
   "metadata": {},
   "outputs": [],
   "source": [
    "import pandas as pd\n",
    "df = pd.read_csv('datasets_448047_847654_Sweden_Vehicle Registration.csv') #Set your file path"
   ]
  },
  {
   "cell_type": "code",
   "execution_count": 40,
   "metadata": {},
   "outputs": [
    {
     "data": {
      "text/html": [
       "<div>\n",
       "<style scoped>\n",
       "    .dataframe tbody tr th:only-of-type {\n",
       "        vertical-align: middle;\n",
       "    }\n",
       "\n",
       "    .dataframe tbody tr th {\n",
       "        vertical-align: top;\n",
       "    }\n",
       "\n",
       "    .dataframe thead th {\n",
       "        text-align: right;\n",
       "    }\n",
       "</style>\n",
       "<table border=\"1\" class=\"dataframe\">\n",
       "  <thead>\n",
       "    <tr style=\"text-align: right;\">\n",
       "      <th></th>\n",
       "      <th>Region</th>\n",
       "      <th>Type of Fuel</th>\n",
       "      <th>2006M01</th>\n",
       "      <th>2006M02</th>\n",
       "      <th>2006M03</th>\n",
       "      <th>2006M04</th>\n",
       "      <th>2006M05</th>\n",
       "      <th>2006M06</th>\n",
       "      <th>2006M07</th>\n",
       "      <th>2006M08</th>\n",
       "      <th>...</th>\n",
       "      <th>2019M02</th>\n",
       "      <th>2019M03</th>\n",
       "      <th>2019M04</th>\n",
       "      <th>2019M05</th>\n",
       "      <th>2019M06</th>\n",
       "      <th>2019M07</th>\n",
       "      <th>2019M08</th>\n",
       "      <th>2019M09</th>\n",
       "      <th>2019M10</th>\n",
       "      <th>2019M11</th>\n",
       "    </tr>\n",
       "  </thead>\n",
       "  <tbody>\n",
       "    <tr>\n",
       "      <th>0</th>\n",
       "      <td>Stockholm</td>\n",
       "      <td>petrol</td>\n",
       "      <td>2824</td>\n",
       "      <td>3431</td>\n",
       "      <td>4291</td>\n",
       "      <td>4872</td>\n",
       "      <td>5819</td>\n",
       "      <td>5648</td>\n",
       "      <td>3450</td>\n",
       "      <td>4087</td>\n",
       "      <td>...</td>\n",
       "      <td>3068</td>\n",
       "      <td>3780</td>\n",
       "      <td>3695</td>\n",
       "      <td>4931</td>\n",
       "      <td>4453</td>\n",
       "      <td>3337</td>\n",
       "      <td>3715</td>\n",
       "      <td>3498</td>\n",
       "      <td>3622</td>\n",
       "      <td>3469</td>\n",
       "    </tr>\n",
       "    <tr>\n",
       "      <th>1</th>\n",
       "      <td>Stockholm</td>\n",
       "      <td>diesel</td>\n",
       "      <td>884</td>\n",
       "      <td>895</td>\n",
       "      <td>1022</td>\n",
       "      <td>1059</td>\n",
       "      <td>1160</td>\n",
       "      <td>1059</td>\n",
       "      <td>783</td>\n",
       "      <td>1060</td>\n",
       "      <td>...</td>\n",
       "      <td>3237</td>\n",
       "      <td>4445</td>\n",
       "      <td>4473</td>\n",
       "      <td>4929</td>\n",
       "      <td>4427</td>\n",
       "      <td>2668</td>\n",
       "      <td>3007</td>\n",
       "      <td>2746</td>\n",
       "      <td>3490</td>\n",
       "      <td>3331</td>\n",
       "    </tr>\n",
       "    <tr>\n",
       "      <th>2</th>\n",
       "      <td>Stockholm</td>\n",
       "      <td>electricity</td>\n",
       "      <td>1</td>\n",
       "      <td>0</td>\n",
       "      <td>0</td>\n",
       "      <td>0</td>\n",
       "      <td>0</td>\n",
       "      <td>0</td>\n",
       "      <td>0</td>\n",
       "      <td>0</td>\n",
       "      <td>...</td>\n",
       "      <td>300</td>\n",
       "      <td>797</td>\n",
       "      <td>443</td>\n",
       "      <td>440</td>\n",
       "      <td>602</td>\n",
       "      <td>379</td>\n",
       "      <td>374</td>\n",
       "      <td>751</td>\n",
       "      <td>340</td>\n",
       "      <td>355</td>\n",
       "    </tr>\n",
       "    <tr>\n",
       "      <th>3</th>\n",
       "      <td>Stockholm</td>\n",
       "      <td>electric hybrid</td>\n",
       "      <td>101</td>\n",
       "      <td>87</td>\n",
       "      <td>131</td>\n",
       "      <td>102</td>\n",
       "      <td>95</td>\n",
       "      <td>118</td>\n",
       "      <td>72</td>\n",
       "      <td>108</td>\n",
       "      <td>...</td>\n",
       "      <td>312</td>\n",
       "      <td>355</td>\n",
       "      <td>515</td>\n",
       "      <td>666</td>\n",
       "      <td>729</td>\n",
       "      <td>850</td>\n",
       "      <td>777</td>\n",
       "      <td>838</td>\n",
       "      <td>887</td>\n",
       "      <td>938</td>\n",
       "    </tr>\n",
       "    <tr>\n",
       "      <th>4</th>\n",
       "      <td>Stockholm</td>\n",
       "      <td>plug-in hybrid</td>\n",
       "      <td>0</td>\n",
       "      <td>0</td>\n",
       "      <td>0</td>\n",
       "      <td>0</td>\n",
       "      <td>0</td>\n",
       "      <td>0</td>\n",
       "      <td>0</td>\n",
       "      <td>0</td>\n",
       "      <td>...</td>\n",
       "      <td>1126</td>\n",
       "      <td>1386</td>\n",
       "      <td>950</td>\n",
       "      <td>917</td>\n",
       "      <td>932</td>\n",
       "      <td>667</td>\n",
       "      <td>858</td>\n",
       "      <td>944</td>\n",
       "      <td>1496</td>\n",
       "      <td>2011</td>\n",
       "    </tr>\n",
       "  </tbody>\n",
       "</table>\n",
       "<p>5 rows × 169 columns</p>\n",
       "</div>"
      ],
      "text/plain": [
       "      Region     Type of Fuel  2006M01  2006M02  2006M03  2006M04  2006M05  \\\n",
       "0  Stockholm           petrol     2824     3431     4291     4872     5819   \n",
       "1  Stockholm           diesel      884      895     1022     1059     1160   \n",
       "2  Stockholm      electricity        1        0        0        0        0   \n",
       "3  Stockholm  electric hybrid      101       87      131      102       95   \n",
       "4  Stockholm   plug-in hybrid        0        0        0        0        0   \n",
       "\n",
       "   2006M06  2006M07  2006M08  ...  2019M02  2019M03  2019M04  2019M05  \\\n",
       "0     5648     3450     4087  ...     3068     3780     3695     4931   \n",
       "1     1059      783     1060  ...     3237     4445     4473     4929   \n",
       "2        0        0        0  ...      300      797      443      440   \n",
       "3      118       72      108  ...      312      355      515      666   \n",
       "4        0        0        0  ...     1126     1386      950      917   \n",
       "\n",
       "   2019M06  2019M07  2019M08  2019M09  2019M10  2019M11  \n",
       "0     4453     3337     3715     3498     3622     3469  \n",
       "1     4427     2668     3007     2746     3490     3331  \n",
       "2      602      379      374      751      340      355  \n",
       "3      729      850      777      838      887      938  \n",
       "4      932      667      858      944     1496     2011  \n",
       "\n",
       "[5 rows x 169 columns]"
      ]
     },
     "execution_count": 40,
     "metadata": {},
     "output_type": "execute_result"
    }
   ],
   "source": [
    "df.head()"
   ]
  },
  {
   "cell_type": "code",
   "execution_count": 41,
   "metadata": {},
   "outputs": [
    {
     "data": {
      "text/plain": [
       "(2512, 169)"
      ]
     },
     "execution_count": 41,
     "metadata": {},
     "output_type": "execute_result"
    }
   ],
   "source": [
    "df.shape"
   ]
  },
  {
   "cell_type": "code",
   "execution_count": 42,
   "metadata": {},
   "outputs": [
    {
     "data": {
      "text/plain": [
       "424528"
      ]
     },
     "execution_count": 42,
     "metadata": {},
     "output_type": "execute_result"
    }
   ],
   "source": [
    "df.size"
   ]
  },
  {
   "cell_type": "code",
   "execution_count": 43,
   "metadata": {},
   "outputs": [
    {
     "data": {
      "text/plain": [
       "Index(['Region', 'Type of Fuel', '2006M01', '2006M02', '2006M03', '2006M04',\n",
       "       '2006M05', '2006M06', '2006M07', '2006M08',\n",
       "       ...\n",
       "       '2019M02', '2019M03', '2019M04', '2019M05', '2019M06', '2019M07',\n",
       "       '2019M08', '2019M09', '2019M10', '2019M11'],\n",
       "      dtype='object', length=169)"
      ]
     },
     "execution_count": 43,
     "metadata": {},
     "output_type": "execute_result"
    }
   ],
   "source": [
    "df.columns"
   ]
  },
  {
   "cell_type": "code",
   "execution_count": 44,
   "metadata": {},
   "outputs": [
    {
     "data": {
      "text/plain": [
       "Region          0\n",
       "Type of Fuel    0\n",
       "2006M01         0\n",
       "2006M02         0\n",
       "2006M03         0\n",
       "               ..\n",
       "2019M07         0\n",
       "2019M08         0\n",
       "2019M09         0\n",
       "2019M10         0\n",
       "2019M11         0\n",
       "Length: 169, dtype: int64"
      ]
     },
     "execution_count": 44,
     "metadata": {},
     "output_type": "execute_result"
    }
   ],
   "source": [
    "df.isna().sum()"
   ]
  },
  {
   "cell_type": "code",
   "execution_count": 45,
   "metadata": {},
   "outputs": [
    {
     "data": {
      "text/plain": [
       "array(['petrol', 'diesel', 'electricity', 'electric hybrid',\n",
       "       'plug-in hybrid', 'ethanol/ethanol flexifuel', 'gas/gas flex',\n",
       "       'other fuels'], dtype=object)"
      ]
     },
     "execution_count": 45,
     "metadata": {},
     "output_type": "execute_result"
    }
   ],
   "source": [
    "df['Type of Fuel'].unique()"
   ]
  },
  {
   "cell_type": "code",
   "execution_count": 46,
   "metadata": {},
   "outputs": [
    {
     "data": {
      "text/plain": [
       "Region\n",
       "Stockholm       6836\n",
       "Västra          3448\n",
       "Skåne           2642\n",
       "Jönköping       1552\n",
       "Uppsala         1043\n",
       "                ... \n",
       "Sorsele            0\n",
       "Ljusnarsberg       0\n",
       "Älvsborg           0\n",
       "Överkalix          0\n",
       "Skaraborg          0\n",
       "Name: 2006M01, Length: 307, dtype: int64"
      ]
     },
     "execution_count": 46,
     "metadata": {},
     "output_type": "execute_result"
    }
   ],
   "source": [
    "df.groupby('Region')['2006M01'].sum().sort_values(ascending=False)"
   ]
  },
  {
   "cell_type": "code",
   "execution_count": 47,
   "metadata": {},
   "outputs": [
    {
     "data": {
      "text/plain": [
       "pandas.core.series.Series"
      ]
     },
     "execution_count": 47,
     "metadata": {},
     "output_type": "execute_result"
    }
   ],
   "source": [
    "type(df.groupby('Region')['2006M01'].sum())"
   ]
  },
  {
   "cell_type": "code",
   "execution_count": 48,
   "metadata": {},
   "outputs": [
    {
     "data": {
      "text/plain": [
       "Index(['2006M01', '2006M02', '2006M03', '2006M04', '2006M05', '2006M06',\n",
       "       '2006M07', '2006M08', '2006M09', '2006M10',\n",
       "       ...\n",
       "       '2019M02', '2019M03', '2019M04', '2019M05', '2019M06', '2019M07',\n",
       "       '2019M08', '2019M09', '2019M10', '2019M11'],\n",
       "      dtype='object', length=167)"
      ]
     },
     "execution_count": 48,
     "metadata": {},
     "output_type": "execute_result"
    }
   ],
   "source": [
    "df._get_numeric_data().columns"
   ]
  },
  {
   "cell_type": "code",
   "execution_count": 49,
   "metadata": {},
   "outputs": [
    {
     "data": {
      "text/html": [
       "<div>\n",
       "<style scoped>\n",
       "    .dataframe tbody tr th:only-of-type {\n",
       "        vertical-align: middle;\n",
       "    }\n",
       "\n",
       "    .dataframe tbody tr th {\n",
       "        vertical-align: top;\n",
       "    }\n",
       "\n",
       "    .dataframe thead th {\n",
       "        text-align: right;\n",
       "    }\n",
       "</style>\n",
       "<table border=\"1\" class=\"dataframe\">\n",
       "  <thead>\n",
       "    <tr style=\"text-align: right;\">\n",
       "      <th></th>\n",
       "      <th>2006M01</th>\n",
       "      <th>2006M02</th>\n",
       "      <th>2006M03</th>\n",
       "      <th>2006M04</th>\n",
       "      <th>2006M05</th>\n",
       "      <th>2006M06</th>\n",
       "      <th>2006M07</th>\n",
       "      <th>2006M08</th>\n",
       "      <th>2006M09</th>\n",
       "      <th>2006M10</th>\n",
       "      <th>...</th>\n",
       "      <th>2019M02</th>\n",
       "      <th>2019M03</th>\n",
       "      <th>2019M04</th>\n",
       "      <th>2019M05</th>\n",
       "      <th>2019M06</th>\n",
       "      <th>2019M07</th>\n",
       "      <th>2019M08</th>\n",
       "      <th>2019M09</th>\n",
       "      <th>2019M10</th>\n",
       "      <th>2019M11</th>\n",
       "    </tr>\n",
       "    <tr>\n",
       "      <th>Type of Fuel</th>\n",
       "      <th></th>\n",
       "      <th></th>\n",
       "      <th></th>\n",
       "      <th></th>\n",
       "      <th></th>\n",
       "      <th></th>\n",
       "      <th></th>\n",
       "      <th></th>\n",
       "      <th></th>\n",
       "      <th></th>\n",
       "      <th></th>\n",
       "      <th></th>\n",
       "      <th></th>\n",
       "      <th></th>\n",
       "      <th></th>\n",
       "      <th></th>\n",
       "      <th></th>\n",
       "      <th></th>\n",
       "      <th></th>\n",
       "      <th></th>\n",
       "      <th></th>\n",
       "    </tr>\n",
       "  </thead>\n",
       "  <tbody>\n",
       "    <tr>\n",
       "      <th>diesel</th>\n",
       "      <td>7041</td>\n",
       "      <td>6888</td>\n",
       "      <td>9528</td>\n",
       "      <td>9196</td>\n",
       "      <td>10336</td>\n",
       "      <td>10680</td>\n",
       "      <td>8178</td>\n",
       "      <td>9238</td>\n",
       "      <td>10876</td>\n",
       "      <td>12352</td>\n",
       "      <td>...</td>\n",
       "      <td>17654</td>\n",
       "      <td>21540</td>\n",
       "      <td>23961</td>\n",
       "      <td>23346</td>\n",
       "      <td>21416</td>\n",
       "      <td>14705</td>\n",
       "      <td>17575</td>\n",
       "      <td>14576</td>\n",
       "      <td>18078</td>\n",
       "      <td>17938</td>\n",
       "    </tr>\n",
       "    <tr>\n",
       "      <th>electric hybrid</th>\n",
       "      <td>432</td>\n",
       "      <td>326</td>\n",
       "      <td>428</td>\n",
       "      <td>478</td>\n",
       "      <td>520</td>\n",
       "      <td>614</td>\n",
       "      <td>448</td>\n",
       "      <td>554</td>\n",
       "      <td>586</td>\n",
       "      <td>332</td>\n",
       "      <td>...</td>\n",
       "      <td>2476</td>\n",
       "      <td>3720</td>\n",
       "      <td>4390</td>\n",
       "      <td>5324</td>\n",
       "      <td>5268</td>\n",
       "      <td>5256</td>\n",
       "      <td>6226</td>\n",
       "      <td>5948</td>\n",
       "      <td>6994</td>\n",
       "      <td>7236</td>\n",
       "    </tr>\n",
       "    <tr>\n",
       "      <th>electricity</th>\n",
       "      <td>4</td>\n",
       "      <td>0</td>\n",
       "      <td>0</td>\n",
       "      <td>0</td>\n",
       "      <td>0</td>\n",
       "      <td>0</td>\n",
       "      <td>0</td>\n",
       "      <td>0</td>\n",
       "      <td>0</td>\n",
       "      <td>0</td>\n",
       "      <td>...</td>\n",
       "      <td>1804</td>\n",
       "      <td>4214</td>\n",
       "      <td>2754</td>\n",
       "      <td>2510</td>\n",
       "      <td>3384</td>\n",
       "      <td>2166</td>\n",
       "      <td>1942</td>\n",
       "      <td>3528</td>\n",
       "      <td>1696</td>\n",
       "      <td>2124</td>\n",
       "    </tr>\n",
       "    <tr>\n",
       "      <th>ethanol/ethanol flexifuel</th>\n",
       "      <td>3292</td>\n",
       "      <td>3596</td>\n",
       "      <td>6330</td>\n",
       "      <td>4210</td>\n",
       "      <td>4962</td>\n",
       "      <td>4938</td>\n",
       "      <td>3372</td>\n",
       "      <td>4172</td>\n",
       "      <td>4122</td>\n",
       "      <td>3638</td>\n",
       "      <td>...</td>\n",
       "      <td>16</td>\n",
       "      <td>24</td>\n",
       "      <td>14</td>\n",
       "      <td>30</td>\n",
       "      <td>12</td>\n",
       "      <td>8</td>\n",
       "      <td>414</td>\n",
       "      <td>362</td>\n",
       "      <td>252</td>\n",
       "      <td>364</td>\n",
       "    </tr>\n",
       "    <tr>\n",
       "      <th>gas/gas flex</th>\n",
       "      <td>336</td>\n",
       "      <td>468</td>\n",
       "      <td>508</td>\n",
       "      <td>740</td>\n",
       "      <td>1060</td>\n",
       "      <td>796</td>\n",
       "      <td>396</td>\n",
       "      <td>362</td>\n",
       "      <td>638</td>\n",
       "      <td>722</td>\n",
       "      <td>...</td>\n",
       "      <td>192</td>\n",
       "      <td>404</td>\n",
       "      <td>562</td>\n",
       "      <td>894</td>\n",
       "      <td>1220</td>\n",
       "      <td>702</td>\n",
       "      <td>1906</td>\n",
       "      <td>1298</td>\n",
       "      <td>1064</td>\n",
       "      <td>728</td>\n",
       "    </tr>\n",
       "  </tbody>\n",
       "</table>\n",
       "<p>5 rows × 167 columns</p>\n",
       "</div>"
      ],
      "text/plain": [
       "                           2006M01  2006M02  2006M03  2006M04  2006M05  \\\n",
       "Type of Fuel                                                             \n",
       "diesel                        7041     6888     9528     9196    10336   \n",
       "electric hybrid                432      326      428      478      520   \n",
       "electricity                      4        0        0        0        0   \n",
       "ethanol/ethanol flexifuel     3292     3596     6330     4210     4962   \n",
       "gas/gas flex                   336      468      508      740     1060   \n",
       "\n",
       "                           2006M06  2006M07  2006M08  2006M09  2006M10  ...  \\\n",
       "Type of Fuel                                                            ...   \n",
       "diesel                       10680     8178     9238    10876    12352  ...   \n",
       "electric hybrid                614      448      554      586      332  ...   \n",
       "electricity                      0        0        0        0        0  ...   \n",
       "ethanol/ethanol flexifuel     4938     3372     4172     4122     3638  ...   \n",
       "gas/gas flex                   796      396      362      638      722  ...   \n",
       "\n",
       "                           2019M02  2019M03  2019M04  2019M05  2019M06  \\\n",
       "Type of Fuel                                                             \n",
       "diesel                       17654    21540    23961    23346    21416   \n",
       "electric hybrid               2476     3720     4390     5324     5268   \n",
       "electricity                   1804     4214     2754     2510     3384   \n",
       "ethanol/ethanol flexifuel       16       24       14       30       12   \n",
       "gas/gas flex                   192      404      562      894     1220   \n",
       "\n",
       "                           2019M07  2019M08  2019M09  2019M10  2019M11  \n",
       "Type of Fuel                                                            \n",
       "diesel                       14705    17575    14576    18078    17938  \n",
       "electric hybrid               5256     6226     5948     6994     7236  \n",
       "electricity                   2166     1942     3528     1696     2124  \n",
       "ethanol/ethanol flexifuel        8      414      362      252      364  \n",
       "gas/gas flex                   702     1906     1298     1064      728  \n",
       "\n",
       "[5 rows x 167 columns]"
      ]
     },
     "execution_count": 49,
     "metadata": {},
     "output_type": "execute_result"
    }
   ],
   "source": [
    "new_df=df.groupby('Type of Fuel')[df._get_numeric_data().columns].sum()\n",
    "new_df.head()"
   ]
  },
  {
   "cell_type": "code",
   "execution_count": 50,
   "metadata": {},
   "outputs": [],
   "source": [
    "new_df=new_df.T"
   ]
  },
  {
   "cell_type": "code",
   "execution_count": 51,
   "metadata": {},
   "outputs": [
    {
     "data": {
      "text/html": [
       "<div>\n",
       "<style scoped>\n",
       "    .dataframe tbody tr th:only-of-type {\n",
       "        vertical-align: middle;\n",
       "    }\n",
       "\n",
       "    .dataframe tbody tr th {\n",
       "        vertical-align: top;\n",
       "    }\n",
       "\n",
       "    .dataframe thead th {\n",
       "        text-align: right;\n",
       "    }\n",
       "</style>\n",
       "<table border=\"1\" class=\"dataframe\">\n",
       "  <thead>\n",
       "    <tr style=\"text-align: right;\">\n",
       "      <th></th>\n",
       "      <th>diesel</th>\n",
       "      <th>electric hybrid</th>\n",
       "      <th>electricity</th>\n",
       "      <th>ethanol/ethanol flexifuel</th>\n",
       "      <th>gas/gas flex</th>\n",
       "      <th>other fuels</th>\n",
       "      <th>petrol</th>\n",
       "      <th>plug-in hybrid</th>\n",
       "    </tr>\n",
       "    <tr>\n",
       "      <th>Date</th>\n",
       "      <th></th>\n",
       "      <th></th>\n",
       "      <th></th>\n",
       "      <th></th>\n",
       "      <th></th>\n",
       "      <th></th>\n",
       "      <th></th>\n",
       "      <th></th>\n",
       "    </tr>\n",
       "  </thead>\n",
       "  <tbody>\n",
       "    <tr>\n",
       "      <th>2006M01</th>\n",
       "      <td>7041</td>\n",
       "      <td>432</td>\n",
       "      <td>4</td>\n",
       "      <td>3292</td>\n",
       "      <td>336</td>\n",
       "      <td>6</td>\n",
       "      <td>27234</td>\n",
       "      <td>0</td>\n",
       "    </tr>\n",
       "    <tr>\n",
       "      <th>2006M02</th>\n",
       "      <td>6888</td>\n",
       "      <td>326</td>\n",
       "      <td>0</td>\n",
       "      <td>3596</td>\n",
       "      <td>468</td>\n",
       "      <td>0</td>\n",
       "      <td>29374</td>\n",
       "      <td>0</td>\n",
       "    </tr>\n",
       "    <tr>\n",
       "      <th>2006M03</th>\n",
       "      <td>9528</td>\n",
       "      <td>428</td>\n",
       "      <td>0</td>\n",
       "      <td>6330</td>\n",
       "      <td>508</td>\n",
       "      <td>2</td>\n",
       "      <td>39218</td>\n",
       "      <td>0</td>\n",
       "    </tr>\n",
       "    <tr>\n",
       "      <th>2006M04</th>\n",
       "      <td>9196</td>\n",
       "      <td>478</td>\n",
       "      <td>0</td>\n",
       "      <td>4210</td>\n",
       "      <td>740</td>\n",
       "      <td>0</td>\n",
       "      <td>42878</td>\n",
       "      <td>0</td>\n",
       "    </tr>\n",
       "    <tr>\n",
       "      <th>2006M05</th>\n",
       "      <td>10336</td>\n",
       "      <td>520</td>\n",
       "      <td>0</td>\n",
       "      <td>4962</td>\n",
       "      <td>1060</td>\n",
       "      <td>0</td>\n",
       "      <td>48234</td>\n",
       "      <td>0</td>\n",
       "    </tr>\n",
       "  </tbody>\n",
       "</table>\n",
       "</div>"
      ],
      "text/plain": [
       "         diesel  electric hybrid  electricity  ethanol/ethanol flexifuel  \\\n",
       "Date                                                                       \n",
       "2006M01    7041              432            4                       3292   \n",
       "2006M02    6888              326            0                       3596   \n",
       "2006M03    9528              428            0                       6330   \n",
       "2006M04    9196              478            0                       4210   \n",
       "2006M05   10336              520            0                       4962   \n",
       "\n",
       "         gas/gas flex  other fuels  petrol  plug-in hybrid  \n",
       "Date                                                        \n",
       "2006M01           336            6   27234               0  \n",
       "2006M02           468            0   29374               0  \n",
       "2006M03           508            2   39218               0  \n",
       "2006M04           740            0   42878               0  \n",
       "2006M05          1060            0   48234               0  "
      ]
     },
     "execution_count": 51,
     "metadata": {},
     "output_type": "execute_result"
    }
   ],
   "source": [
    "new_df.index.names = ['Date']\n",
    "new_df.columns.names = ['']\n",
    "new_df.head()"
   ]
  },
  {
   "cell_type": "markdown",
   "metadata": {},
   "source": [
    "## Statistical analysis"
   ]
  },
  {
   "cell_type": "code",
   "execution_count": 52,
   "metadata": {},
   "outputs": [
    {
     "data": {
      "text/plain": [
       "25278.335329341317"
      ]
     },
     "execution_count": 52,
     "metadata": {},
     "output_type": "execute_result"
    }
   ],
   "source": [
    "average = new_df['diesel'].mean()\n",
    "average"
   ]
  },
  {
   "cell_type": "code",
   "execution_count": 53,
   "metadata": {},
   "outputs": [
    {
     "data": {
      "text/plain": [
       "25843.0"
      ]
     },
     "execution_count": 53,
     "metadata": {},
     "output_type": "execute_result"
    }
   ],
   "source": [
    "median = new_df['diesel'].median()\n",
    "median"
   ]
  },
  {
   "cell_type": "code",
   "execution_count": 54,
   "metadata": {},
   "outputs": [
    {
     "data": {
      "text/plain": [
       "9487.792531236786"
      ]
     },
     "execution_count": 54,
     "metadata": {},
     "output_type": "execute_result"
    }
   ],
   "source": [
    "std = new_df['diesel'].std()\n",
    "std"
   ]
  },
  {
   "cell_type": "code",
   "execution_count": 55,
   "metadata": {
    "scrolled": false
   },
   "outputs": [
    {
     "data": {
      "text/html": [
       "<div>\n",
       "<style scoped>\n",
       "    .dataframe tbody tr th:only-of-type {\n",
       "        vertical-align: middle;\n",
       "    }\n",
       "\n",
       "    .dataframe tbody tr th {\n",
       "        vertical-align: top;\n",
       "    }\n",
       "\n",
       "    .dataframe thead th {\n",
       "        text-align: right;\n",
       "    }\n",
       "</style>\n",
       "<table border=\"1\" class=\"dataframe\">\n",
       "  <thead>\n",
       "    <tr style=\"text-align: right;\">\n",
       "      <th></th>\n",
       "      <th>diesel</th>\n",
       "      <th>electric hybrid</th>\n",
       "      <th>electricity</th>\n",
       "      <th>ethanol/ethanol flexifuel</th>\n",
       "      <th>gas/gas flex</th>\n",
       "      <th>other fuels</th>\n",
       "      <th>petrol</th>\n",
       "      <th>plug-in hybrid</th>\n",
       "    </tr>\n",
       "  </thead>\n",
       "  <tbody>\n",
       "    <tr>\n",
       "      <th>count</th>\n",
       "      <td>167.000000</td>\n",
       "      <td>167.000000</td>\n",
       "      <td>167.000000</td>\n",
       "      <td>167.000000</td>\n",
       "      <td>167.000000</td>\n",
       "      <td>167.000000</td>\n",
       "      <td>167.000000</td>\n",
       "      <td>167.000000</td>\n",
       "    </tr>\n",
       "    <tr>\n",
       "      <th>mean</th>\n",
       "      <td>25278.335329</td>\n",
       "      <td>1501.095808</td>\n",
       "      <td>404.664671</td>\n",
       "      <td>2736.592814</td>\n",
       "      <td>737.982036</td>\n",
       "      <td>4.874251</td>\n",
       "      <td>22702.377246</td>\n",
       "      <td>966.347305</td>\n",
       "    </tr>\n",
       "    <tr>\n",
       "      <th>std</th>\n",
       "      <td>9487.792531</td>\n",
       "      <td>1460.326153</td>\n",
       "      <td>729.336170</td>\n",
       "      <td>3234.331459</td>\n",
       "      <td>364.773118</td>\n",
       "      <td>4.254239</td>\n",
       "      <td>8149.379845</td>\n",
       "      <td>1443.508397</td>\n",
       "    </tr>\n",
       "    <tr>\n",
       "      <th>min</th>\n",
       "      <td>6310.000000</td>\n",
       "      <td>218.000000</td>\n",
       "      <td>0.000000</td>\n",
       "      <td>8.000000</td>\n",
       "      <td>94.000000</td>\n",
       "      <td>0.000000</td>\n",
       "      <td>9744.000000</td>\n",
       "      <td>0.000000</td>\n",
       "    </tr>\n",
       "    <tr>\n",
       "      <th>25%</th>\n",
       "      <td>17233.000000</td>\n",
       "      <td>556.000000</td>\n",
       "      <td>2.000000</td>\n",
       "      <td>207.000000</td>\n",
       "      <td>449.000000</td>\n",
       "      <td>2.000000</td>\n",
       "      <td>17062.000000</td>\n",
       "      <td>0.000000</td>\n",
       "    </tr>\n",
       "    <tr>\n",
       "      <th>50%</th>\n",
       "      <td>25843.000000</td>\n",
       "      <td>838.000000</td>\n",
       "      <td>56.000000</td>\n",
       "      <td>744.000000</td>\n",
       "      <td>708.000000</td>\n",
       "      <td>4.000000</td>\n",
       "      <td>21400.000000</td>\n",
       "      <td>134.000000</td>\n",
       "    </tr>\n",
       "    <tr>\n",
       "      <th>75%</th>\n",
       "      <td>33130.000000</td>\n",
       "      <td>2069.500000</td>\n",
       "      <td>520.000000</td>\n",
       "      <td>4929.000000</td>\n",
       "      <td>1007.000000</td>\n",
       "      <td>8.000000</td>\n",
       "      <td>27041.000000</td>\n",
       "      <td>1711.500000</td>\n",
       "    </tr>\n",
       "    <tr>\n",
       "      <th>max</th>\n",
       "      <td>58596.000000</td>\n",
       "      <td>7236.000000</td>\n",
       "      <td>4214.000000</td>\n",
       "      <td>12862.000000</td>\n",
       "      <td>1906.000000</td>\n",
       "      <td>20.000000</td>\n",
       "      <td>64461.000000</td>\n",
       "      <td>6512.000000</td>\n",
       "    </tr>\n",
       "  </tbody>\n",
       "</table>\n",
       "</div>"
      ],
      "text/plain": [
       "             diesel  electric hybrid  electricity  ethanol/ethanol flexifuel  \\\n",
       "count    167.000000       167.000000   167.000000                 167.000000   \n",
       "mean   25278.335329      1501.095808   404.664671                2736.592814   \n",
       "std     9487.792531      1460.326153   729.336170                3234.331459   \n",
       "min     6310.000000       218.000000     0.000000                   8.000000   \n",
       "25%    17233.000000       556.000000     2.000000                 207.000000   \n",
       "50%    25843.000000       838.000000    56.000000                 744.000000   \n",
       "75%    33130.000000      2069.500000   520.000000                4929.000000   \n",
       "max    58596.000000      7236.000000  4214.000000               12862.000000   \n",
       "\n",
       "       gas/gas flex  other fuels        petrol  plug-in hybrid  \n",
       "count    167.000000   167.000000    167.000000      167.000000  \n",
       "mean     737.982036     4.874251  22702.377246      966.347305  \n",
       "std      364.773118     4.254239   8149.379845     1443.508397  \n",
       "min       94.000000     0.000000   9744.000000        0.000000  \n",
       "25%      449.000000     2.000000  17062.000000        0.000000  \n",
       "50%      708.000000     4.000000  21400.000000      134.000000  \n",
       "75%     1007.000000     8.000000  27041.000000     1711.500000  \n",
       "max     1906.000000    20.000000  64461.000000     6512.000000  "
      ]
     },
     "execution_count": 55,
     "metadata": {},
     "output_type": "execute_result"
    }
   ],
   "source": [
    "new_df.describe()"
   ]
  },
  {
   "cell_type": "markdown",
   "metadata": {},
   "source": [
    "## Visualization "
   ]
  },
  {
   "cell_type": "code",
   "execution_count": 105,
   "metadata": {},
   "outputs": [],
   "source": [
    "import matplotlib.pyplot as plt\n",
    "import numpy as np\n",
    "import seaborn as sns\n",
    "sns.set(style=\"darkgrid\")"
   ]
  },
  {
   "cell_type": "code",
   "execution_count": null,
   "metadata": {},
   "outputs": [],
   "source": [
    "new_df.hist(figsize=(16, 9), color = 'purple')"
   ]
  },
  {
   "cell_type": "code",
   "execution_count": null,
   "metadata": {},
   "outputs": [],
   "source": [
    "sns.distplot(new_df['petrol'])"
   ]
  },
  {
   "cell_type": "code",
   "execution_count": null,
   "metadata": {},
   "outputs": [],
   "source": [
    "sns.jointplot(x=\"electricity\", y=\"petrol\", data=new_df, color=\"purple\")"
   ]
  },
  {
   "cell_type": "code",
   "execution_count": null,
   "metadata": {},
   "outputs": [],
   "source": [
    "sns.boxplot(x=new_df['petrol'])"
   ]
  },
  {
   "cell_type": "code",
   "execution_count": null,
   "metadata": {},
   "outputs": [],
   "source": [
    "new_df.plot(kind='box',figsize=(14,8))\n",
    "plt.show()"
   ]
  },
  {
   "cell_type": "code",
   "execution_count": 171,
   "metadata": {},
   "outputs": [],
   "source": [
    "#sns.pairplot(new_df)"
   ]
  },
  {
   "cell_type": "code",
   "execution_count": null,
   "metadata": {},
   "outputs": [],
   "source": [
    "ts = pd.Series(new_df['diesel'].to_numpy(), index=pd.date_range('1/1/2006', periods=167, freq='M'))"
   ]
  },
  {
   "cell_type": "code",
   "execution_count": 173,
   "metadata": {},
   "outputs": [],
   "source": [
    "ts"
   ]
  },
  {
   "cell_type": "code",
   "execution_count": null,
   "metadata": {},
   "outputs": [],
   "source": [
    "ts.plot(figsize=(14,8))"
   ]
  },
  {
   "cell_type": "code",
   "execution_count": 176,
   "metadata": {},
   "outputs": [],
   "source": [
    "df = pd.DataFrame(new_df.to_numpy(), index=pd.date_range('1/1/2006', periods=167, freq='M'), columns=new_df.columns)           "
   ]
  },
  {
   "cell_type": "code",
   "execution_count": null,
   "metadata": {},
   "outputs": [],
   "source": [
    "df.plot(figsize=(14,8))"
   ]
  },
  {
   "cell_type": "code",
   "execution_count": 56,
   "metadata": {},
   "outputs": [
    {
     "name": "stdout",
     "output_type": "stream",
     "text": [
      "Collecting geopy\n",
      "  Obtaining dependency information for geopy from https://files.pythonhosted.org/packages/e1/58/9289c6a03116025cdb61461d99b2493daa4967a80b13755463d71a0affeb/geopy-2.4.0-py3-none-any.whl.metadata\n",
      "  Downloading geopy-2.4.0-py3-none-any.whl.metadata (6.8 kB)\n",
      "Collecting geographiclib<3,>=1.52 (from geopy)\n",
      "  Downloading geographiclib-2.0-py3-none-any.whl (40 kB)\n",
      "     ---------------------------------------- 0.0/40.3 kB ? eta -:--:--\n",
      "     ---------------------------------------- 40.3/40.3 kB 1.9 MB/s eta 0:00:00\n",
      "Downloading geopy-2.4.0-py3-none-any.whl (125 kB)\n",
      "   ---------------------------------------- 0.0/125.4 kB ? eta -:--:--\n",
      "   ---------------------------------------- 125.4/125.4 kB 3.7 MB/s eta 0:00:00\n",
      "Installing collected packages: geographiclib, geopy\n",
      "Successfully installed geographiclib-2.0 geopy-2.4.0\n",
      "Note: you may need to restart the kernel to use updated packages.\n"
     ]
    }
   ],
   "source": [
    "pip install geopy"
   ]
  },
  {
   "cell_type": "code",
   "execution_count": 3,
   "metadata": {},
   "outputs": [
    {
     "name": "stdout",
     "output_type": "stream",
     "text": [
      "{'brand': 'Ford', 'model': 'Mustang', 'year': 1964}\n"
     ]
    }
   ],
   "source": [
    "thisdict = {\n",
    "  \"brand\": \"Ford\",\n",
    "  \"model\": \"Mustang\",\n",
    "  \"year\": 1964\n",
    "}\n",
    "print(thisdict)\n",
    "    "
   ]
  },
  {
   "cell_type": "code",
   "execution_count": 30,
   "metadata": {},
   "outputs": [
    {
     "ename": "NameError",
     "evalue": "name 'fib' is not defined",
     "output_type": "error",
     "traceback": [
      "\u001b[1;31m---------------------------------------------------------------------------\u001b[0m",
      "\u001b[1;31mNameError\u001b[0m                                 Traceback (most recent call last)",
      "Cell \u001b[1;32mIn[30], line 12\u001b[0m\n\u001b[0;32m     10\u001b[0m           b \u001b[38;5;241m=\u001b[39m c\n\u001b[0;32m     11\u001b[0m           \u001b[38;5;28mprint\u001b[39m (c)\n\u001b[1;32m---> 12\u001b[0m fib (\u001b[38;5;241m10\u001b[39m)\n",
      "\u001b[1;31mNameError\u001b[0m: name 'fib' is not defined"
     ]
    }
   ],
   "source": []
  },
  {
   "cell_type": "markdown",
   "metadata": {},
   "source": [
    "# References"
   ]
  },
  {
   "cell_type": "markdown",
   "metadata": {},
   "source": [
    "* Python for Data Analysis, 2nd Paperback, 2017 by Wes McKinney\n",
    "* Check Numpy and Pandas sheets in Canvas\n",
    "* Seaborn: statistical data visualization https://seaborn.pydata.org/\n",
    "* Plotly Python Open Source Graphing Library (for interactive viz) https://plotly.com/python/"
   ]
  }
 ],
 "metadata": {
  "kernelspec": {
   "display_name": "Python 3 (ipykernel)",
   "language": "python",
   "name": "python3"
  },
  "language_info": {
   "codemirror_mode": {
    "name": "ipython",
    "version": 3
   },
   "file_extension": ".py",
   "mimetype": "text/x-python",
   "name": "python",
   "nbconvert_exporter": "python",
   "pygments_lexer": "ipython3",
   "version": "3.11.4"
  },
  "vscode": {
   "interpreter": {
    "hash": "d147ce57034e03a2735ab448999b586edb4ae6eb8af923fcd82149b5de64bd62"
   }
  }
 },
 "nbformat": 4,
 "nbformat_minor": 4
}
